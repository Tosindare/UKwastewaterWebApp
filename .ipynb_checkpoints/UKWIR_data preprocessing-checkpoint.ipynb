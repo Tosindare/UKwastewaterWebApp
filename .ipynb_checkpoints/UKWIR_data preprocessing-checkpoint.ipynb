{
 "cells": [
  {
   "cell_type": "markdown",
   "metadata": {},
   "source": [
    "## **UKWIR DATASET Visualization**\n",
    "\n",
    "This is a notebook to showcase the recently released UKWIR dataset on water quality from effluents of sewage treatment plants and surface water. An interactive Web application is beign created from the dataset.\n",
    "\n",
    "\n",
    "**Source:** [UKWIR- Chemical Investigation Programme](https://ukwir.org/chemical-investigations-programme-EIR-Database)\n",
    "\n",
    "### Data Pre-processing"
   ]
  },
  {
   "cell_type": "code",
   "execution_count": 1,
   "metadata": {},
   "outputs": [
    {
     "name": "stdout",
     "output_type": "stream",
     "text": [
      "Requirement already satisfied: pandas in /home/tosin/.local/lib/python3.8/site-packages (1.2.1)\n",
      "Requirement already satisfied: pytz>=2017.3 in /usr/lib/python3/dist-packages (from pandas) (2019.3)\n",
      "Requirement already satisfied: numpy>=1.16.5 in /home/tosin/.local/lib/python3.8/site-packages (from pandas) (1.19.5)\n",
      "Requirement already satisfied: python-dateutil>=2.7.3 in /usr/lib/python3/dist-packages (from pandas) (2.7.3)\n",
      "Note: you may need to restart the kernel to use updated packages.\n"
     ]
    }
   ],
   "source": [
    "pip install pandas"
   ]
  },
  {
   "cell_type": "code",
   "execution_count": 2,
   "metadata": {},
   "outputs": [
    {
     "name": "stdout",
     "output_type": "stream",
     "text": [
      "Requirement already satisfied: seaborn in /home/tosin/.local/lib/python3.8/site-packages (0.11.1)\n",
      "Requirement already satisfied: numpy>=1.15 in /home/tosin/.local/lib/python3.8/site-packages (from seaborn) (1.19.5)\n",
      "Requirement already satisfied: matplotlib>=2.2 in /home/tosin/.local/lib/python3.8/site-packages (from seaborn) (3.3.3)\n",
      "Requirement already satisfied: scipy>=1.0 in /home/tosin/.local/lib/python3.8/site-packages (from seaborn) (1.6.0)\n",
      "Requirement already satisfied: pandas>=0.23 in /home/tosin/.local/lib/python3.8/site-packages (from seaborn) (1.2.1)\n",
      "Requirement already satisfied: pyparsing!=2.0.4,!=2.1.2,!=2.1.6,>=2.0.3 in /home/tosin/.local/lib/python3.8/site-packages (from matplotlib>=2.2->seaborn) (2.4.7)\n",
      "Requirement already satisfied: kiwisolver>=1.0.1 in /home/tosin/.local/lib/python3.8/site-packages (from matplotlib>=2.2->seaborn) (1.3.1)\n",
      "Requirement already satisfied: python-dateutil>=2.1 in /usr/lib/python3/dist-packages (from matplotlib>=2.2->seaborn) (2.7.3)\n",
      "Requirement already satisfied: pillow>=6.2.0 in /usr/lib/python3/dist-packages (from matplotlib>=2.2->seaborn) (7.0.0)\n",
      "Requirement already satisfied: cycler>=0.10 in /home/tosin/.local/lib/python3.8/site-packages (from matplotlib>=2.2->seaborn) (0.10.0)\n",
      "Requirement already satisfied: pytz>=2017.3 in /usr/lib/python3/dist-packages (from pandas>=0.23->seaborn) (2019.3)\n",
      "Requirement already satisfied: six in /usr/lib/python3/dist-packages (from cycler>=0.10->matplotlib>=2.2->seaborn) (1.14.0)\n",
      "Note: you may need to restart the kernel to use updated packages.\n"
     ]
    }
   ],
   "source": [
    "pip install seaborn"
   ]
  },
  {
   "cell_type": "code",
   "execution_count": 44,
   "metadata": {},
   "outputs": [],
   "source": [
    "import pandas as pd\n",
    "import numpy as np\n",
    "\n",
    "import seaborn as sn\n",
    "import matplotlib.pyplot as plt"
   ]
  },
  {
   "cell_type": "code",
   "execution_count": 50,
   "metadata": {},
   "outputs": [],
   "source": [
    "#Import cleaned effluent Dataset\n",
    "#Rows with null values were removed and the data with dates before 2015 were also removed - dates are suppoed to be from 2015 - 2020 according to the documentation.\n",
    "\n",
    "swt_data = pd.read_csv('/home/tosin/Downloads/TreatmentEffluents.csv')"
   ]
  },
  {
   "cell_type": "code",
   "execution_count": 52,
   "metadata": {},
   "outputs": [],
   "source": [
    "swt_data.SampleDateTime = pd.to_datetime(swt_data.SampleDateTime) # format='%Y/%m/%d')"
   ]
  },
  {
   "cell_type": "code",
   "execution_count": 53,
   "metadata": {},
   "outputs": [
    {
     "name": "stdout",
     "output_type": "stream",
     "text": [
      "<class 'pandas.core.frame.DataFrame'>\n",
      "RangeIndex: 639601 entries, 0 to 639600\n",
      "Data columns (total 9 columns):\n",
      " #   Column               Non-Null Count   Dtype         \n",
      "---  ------               --------------   -----         \n",
      " 0   TreatmentPlant       639601 non-null  object        \n",
      " 1   SampleDateTime       639601 non-null  datetime64[ns]\n",
      " 2   SampleLocationName   639601 non-null  object        \n",
      " 3   SampleValue          638727 non-null  float64       \n",
      " 4   NameDeterminandName  639601 non-null  object        \n",
      " 5   UnitsName            639601 non-null  object        \n",
      " 6   BelowMinReading      639601 non-null  object        \n",
      " 7   Latitude             636970 non-null  float64       \n",
      " 8   Longitude            636970 non-null  float64       \n",
      "dtypes: datetime64[ns](1), float64(3), object(5)\n",
      "memory usage: 43.9+ MB\n"
     ]
    }
   ],
   "source": [
    "swt_data.info()"
   ]
  },
  {
   "cell_type": "code",
   "execution_count": 54,
   "metadata": {},
   "outputs": [],
   "source": [
    "# Import Influent and Treatment plant location Dataset\n",
    "\n",
    "influent = pd.read_csv('influent.csv')\n",
    "\n"
   ]
  },
  {
   "cell_type": "code",
   "execution_count": 55,
   "metadata": {},
   "outputs": [],
   "source": [
    "#influent.head()"
   ]
  },
  {
   "cell_type": "code",
   "execution_count": 56,
   "metadata": {},
   "outputs": [
    {
     "data": {
      "text/plain": [
       "597"
      ]
     },
     "execution_count": 56,
     "metadata": {},
     "output_type": "execute_result"
    }
   ],
   "source": [
    "# no of Treatment Plants\n",
    "swt_data.TreatmentPlant.nunique()"
   ]
  },
  {
   "cell_type": "code",
   "execution_count": 57,
   "metadata": {},
   "outputs": [
    {
     "data": {
      "text/plain": [
       "Rye Meads STW           2232\n",
       "Hurley STW              2071\n",
       "Birtley STW             2005\n",
       "Marlow STW              2002\n",
       "Melbourne STW           1998\n",
       "                        ... \n",
       "Papworth Everard STW     650\n",
       "Harpenden STW             46\n",
       "Clavering STW             46\n",
       "Epping STW                44\n",
       "Brentwood STW             42\n",
       "Name: TreatmentPlant, Length: 597, dtype: int64"
      ]
     },
     "execution_count": 57,
     "metadata": {},
     "output_type": "execute_result"
    }
   ],
   "source": [
    "#no of recors for each Treatment Plant\n",
    "swt_data.TreatmentPlant.value_counts()"
   ]
  },
  {
   "cell_type": "code",
   "execution_count": 58,
   "metadata": {},
   "outputs": [
    {
     "name": "stderr",
     "output_type": "stream",
     "text": [
      "<ipython-input-58-328ed1532116>:2: FutureWarning: Treating datetime data as categorical rather than numeric in `.describe` is deprecated and will be removed in a future version of pandas. Specify `datetime_is_numeric=True` to silence this warning and adopt the future behavior now.\n",
      "  swt_data.describe(include='all').loc['unique', :]\n"
     ]
    },
    {
     "data": {
      "text/plain": [
       "TreatmentPlant          597\n",
       "SampleDateTime         1307\n",
       "SampleLocationName        1\n",
       "SampleValue             NaN\n",
       "NameDeterminandName      77\n",
       "UnitsName                 3\n",
       "BelowMinReading           2\n",
       "Latitude                NaN\n",
       "Longitude               NaN\n",
       "Name: unique, dtype: object"
      ]
     },
     "execution_count": 58,
     "metadata": {},
     "output_type": "execute_result"
    }
   ],
   "source": [
    "#Explore data by columns\n",
    "swt_data.describe(include='all').loc['unique', :]"
   ]
  },
  {
   "cell_type": "code",
   "execution_count": 60,
   "metadata": {},
   "outputs": [
    {
     "data": {
      "text/html": [
       "<div>\n",
       "<style scoped>\n",
       "    .dataframe tbody tr th:only-of-type {\n",
       "        vertical-align: middle;\n",
       "    }\n",
       "\n",
       "    .dataframe tbody tr th {\n",
       "        vertical-align: top;\n",
       "    }\n",
       "\n",
       "    .dataframe thead th {\n",
       "        text-align: right;\n",
       "    }\n",
       "</style>\n",
       "<table border=\"1\" class=\"dataframe\">\n",
       "  <thead>\n",
       "    <tr style=\"text-align: right;\">\n",
       "      <th></th>\n",
       "      <th>TreatmentPlant</th>\n",
       "      <th>SampleDateTime</th>\n",
       "      <th>SampleLocationName</th>\n",
       "      <th>SampleValue</th>\n",
       "      <th>NameDeterminandName</th>\n",
       "      <th>UnitsName</th>\n",
       "      <th>BelowMinReading</th>\n",
       "      <th>Latitude</th>\n",
       "      <th>Longitude</th>\n",
       "    </tr>\n",
       "  </thead>\n",
       "  <tbody>\n",
       "    <tr>\n",
       "      <th>65991</th>\n",
       "      <td>Pegswood STW</td>\n",
       "      <td>2015-02-11</td>\n",
       "      <td>Treatment Effluent</td>\n",
       "      <td>NaN</td>\n",
       "      <td>HCBDD</td>\n",
       "      <td>micrograms per litre</td>\n",
       "      <td>No</td>\n",
       "      <td>55.180709</td>\n",
       "      <td>-1.635349</td>\n",
       "    </tr>\n",
       "    <tr>\n",
       "      <th>66218</th>\n",
       "      <td>Beddington STW</td>\n",
       "      <td>2017-12-06</td>\n",
       "      <td>Treatment Effluent</td>\n",
       "      <td>NaN</td>\n",
       "      <td>oestrone</td>\n",
       "      <td>micrograms per litre</td>\n",
       "      <td>No</td>\n",
       "      <td>51.380988</td>\n",
       "      <td>-0.140561</td>\n",
       "    </tr>\n",
       "    <tr>\n",
       "      <th>66219</th>\n",
       "      <td>Beddington STW</td>\n",
       "      <td>2017-12-06</td>\n",
       "      <td>Treatment Effluent</td>\n",
       "      <td>NaN</td>\n",
       "      <td>oestradiol 17b</td>\n",
       "      <td>micrograms per litre</td>\n",
       "      <td>No</td>\n",
       "      <td>51.380988</td>\n",
       "      <td>-0.140561</td>\n",
       "    </tr>\n",
       "    <tr>\n",
       "      <th>66220</th>\n",
       "      <td>Beddington STW</td>\n",
       "      <td>2017-12-06</td>\n",
       "      <td>Treatment Effluent</td>\n",
       "      <td>NaN</td>\n",
       "      <td>ethinyloestradiol 17a</td>\n",
       "      <td>micrograms per litre</td>\n",
       "      <td>No</td>\n",
       "      <td>51.380988</td>\n",
       "      <td>-0.140561</td>\n",
       "    </tr>\n",
       "    <tr>\n",
       "      <th>66221</th>\n",
       "      <td>Beddington STW</td>\n",
       "      <td>2017-12-06</td>\n",
       "      <td>Treatment Effluent</td>\n",
       "      <td>NaN</td>\n",
       "      <td>diclofenac</td>\n",
       "      <td>micrograms per litre</td>\n",
       "      <td>No</td>\n",
       "      <td>51.380988</td>\n",
       "      <td>-0.140561</td>\n",
       "    </tr>\n",
       "    <tr>\n",
       "      <th>...</th>\n",
       "      <td>...</td>\n",
       "      <td>...</td>\n",
       "      <td>...</td>\n",
       "      <td>...</td>\n",
       "      <td>...</td>\n",
       "      <td>...</td>\n",
       "      <td>...</td>\n",
       "      <td>...</td>\n",
       "      <td>...</td>\n",
       "    </tr>\n",
       "    <tr>\n",
       "      <th>627754</th>\n",
       "      <td>Beddington STW</td>\n",
       "      <td>2017-03-10</td>\n",
       "      <td>Treatment Effluent</td>\n",
       "      <td>NaN</td>\n",
       "      <td>fluoxetine</td>\n",
       "      <td>micrograms per litre</td>\n",
       "      <td>No</td>\n",
       "      <td>51.380988</td>\n",
       "      <td>-0.140561</td>\n",
       "    </tr>\n",
       "    <tr>\n",
       "      <th>627755</th>\n",
       "      <td>Beddington STW</td>\n",
       "      <td>2017-03-10</td>\n",
       "      <td>Treatment Effluent</td>\n",
       "      <td>NaN</td>\n",
       "      <td>tamoxifen</td>\n",
       "      <td>micrograms per litre</td>\n",
       "      <td>No</td>\n",
       "      <td>51.380988</td>\n",
       "      <td>-0.140561</td>\n",
       "    </tr>\n",
       "    <tr>\n",
       "      <th>627756</th>\n",
       "      <td>Beddington STW</td>\n",
       "      <td>2017-03-10</td>\n",
       "      <td>Treatment Effluent</td>\n",
       "      <td>NaN</td>\n",
       "      <td>trixylenyl phosphate</td>\n",
       "      <td>micrograms per litre</td>\n",
       "      <td>No</td>\n",
       "      <td>51.380988</td>\n",
       "      <td>-0.140561</td>\n",
       "    </tr>\n",
       "    <tr>\n",
       "      <th>627757</th>\n",
       "      <td>Beddington STW</td>\n",
       "      <td>2017-03-10</td>\n",
       "      <td>Treatment Effluent</td>\n",
       "      <td>NaN</td>\n",
       "      <td>benzotriazole</td>\n",
       "      <td>micrograms per litre</td>\n",
       "      <td>No</td>\n",
       "      <td>51.380988</td>\n",
       "      <td>-0.140561</td>\n",
       "    </tr>\n",
       "    <tr>\n",
       "      <th>627758</th>\n",
       "      <td>Beddington STW</td>\n",
       "      <td>2017-03-10</td>\n",
       "      <td>Treatment Effluent</td>\n",
       "      <td>NaN</td>\n",
       "      <td>tolyltriazole</td>\n",
       "      <td>micrograms per litre</td>\n",
       "      <td>No</td>\n",
       "      <td>51.380988</td>\n",
       "      <td>-0.140561</td>\n",
       "    </tr>\n",
       "  </tbody>\n",
       "</table>\n",
       "<p>3505 rows × 9 columns</p>\n",
       "</div>"
      ],
      "text/plain": [
       "        TreatmentPlant SampleDateTime  SampleLocationName  SampleValue  \\\n",
       "65991     Pegswood STW     2015-02-11  Treatment Effluent          NaN   \n",
       "66218   Beddington STW     2017-12-06  Treatment Effluent          NaN   \n",
       "66219   Beddington STW     2017-12-06  Treatment Effluent          NaN   \n",
       "66220   Beddington STW     2017-12-06  Treatment Effluent          NaN   \n",
       "66221   Beddington STW     2017-12-06  Treatment Effluent          NaN   \n",
       "...                ...            ...                 ...          ...   \n",
       "627754  Beddington STW     2017-03-10  Treatment Effluent          NaN   \n",
       "627755  Beddington STW     2017-03-10  Treatment Effluent          NaN   \n",
       "627756  Beddington STW     2017-03-10  Treatment Effluent          NaN   \n",
       "627757  Beddington STW     2017-03-10  Treatment Effluent          NaN   \n",
       "627758  Beddington STW     2017-03-10  Treatment Effluent          NaN   \n",
       "\n",
       "          NameDeterminandName             UnitsName BelowMinReading  \\\n",
       "65991                   HCBDD  micrograms per litre              No   \n",
       "66218                oestrone  micrograms per litre              No   \n",
       "66219          oestradiol 17b  micrograms per litre              No   \n",
       "66220   ethinyloestradiol 17a  micrograms per litre              No   \n",
       "66221              diclofenac  micrograms per litre              No   \n",
       "...                       ...                   ...             ...   \n",
       "627754             fluoxetine  micrograms per litre              No   \n",
       "627755              tamoxifen  micrograms per litre              No   \n",
       "627756   trixylenyl phosphate  micrograms per litre              No   \n",
       "627757         benzotriazole   micrograms per litre              No   \n",
       "627758          tolyltriazole  micrograms per litre              No   \n",
       "\n",
       "         Latitude  Longitude  \n",
       "65991   55.180709  -1.635349  \n",
       "66218   51.380988  -0.140561  \n",
       "66219   51.380988  -0.140561  \n",
       "66220   51.380988  -0.140561  \n",
       "66221   51.380988  -0.140561  \n",
       "...           ...        ...  \n",
       "627754  51.380988  -0.140561  \n",
       "627755  51.380988  -0.140561  \n",
       "627756  51.380988  -0.140561  \n",
       "627757  51.380988  -0.140561  \n",
       "627758  51.380988  -0.140561  \n",
       "\n",
       "[3505 rows x 9 columns]"
      ]
     },
     "execution_count": 60,
     "metadata": {},
     "output_type": "execute_result"
    }
   ],
   "source": [
    "#Select all rows with missing values\n",
    "\n",
    "swt_data[pd.isnull(swt_data).any(axis=1)]"
   ]
  },
  {
   "cell_type": "code",
   "execution_count": 61,
   "metadata": {},
   "outputs": [],
   "source": [
    "#Drop al rows with missing values\n",
    "\n",
    "swt_data= swt_data.dropna()"
   ]
  },
  {
   "cell_type": "code",
   "execution_count": 62,
   "metadata": {},
   "outputs": [
    {
     "name": "stdout",
     "output_type": "stream",
     "text": [
      "<class 'pandas.core.frame.DataFrame'>\n",
      "Int64Index: 636096 entries, 0 to 639600\n",
      "Data columns (total 9 columns):\n",
      " #   Column               Non-Null Count   Dtype         \n",
      "---  ------               --------------   -----         \n",
      " 0   TreatmentPlant       636096 non-null  object        \n",
      " 1   SampleDateTime       636096 non-null  datetime64[ns]\n",
      " 2   SampleLocationName   636096 non-null  object        \n",
      " 3   SampleValue          636096 non-null  float64       \n",
      " 4   NameDeterminandName  636096 non-null  object        \n",
      " 5   UnitsName            636096 non-null  object        \n",
      " 6   BelowMinReading      636096 non-null  object        \n",
      " 7   Latitude             636096 non-null  float64       \n",
      " 8   Longitude            636096 non-null  float64       \n",
      "dtypes: datetime64[ns](1), float64(3), object(5)\n",
      "memory usage: 48.5+ MB\n"
     ]
    }
   ],
   "source": [
    "swt_data.info()"
   ]
  },
  {
   "cell_type": "code",
   "execution_count": 63,
   "metadata": {},
   "outputs": [],
   "source": [
    "swt_data = swt_data[['TreatmentPlant', 'SampleDateTime', 'SampleValue', 'NameDeterminandName', 'UnitsName',  'Latitude', 'Longitude']]"
   ]
  },
  {
   "cell_type": "code",
   "execution_count": 64,
   "metadata": {},
   "outputs": [
    {
     "data": {
      "text/html": [
       "<div>\n",
       "<style scoped>\n",
       "    .dataframe tbody tr th:only-of-type {\n",
       "        vertical-align: middle;\n",
       "    }\n",
       "\n",
       "    .dataframe tbody tr th {\n",
       "        vertical-align: top;\n",
       "    }\n",
       "\n",
       "    .dataframe thead th {\n",
       "        text-align: right;\n",
       "    }\n",
       "</style>\n",
       "<table border=\"1\" class=\"dataframe\">\n",
       "  <thead>\n",
       "    <tr style=\"text-align: right;\">\n",
       "      <th></th>\n",
       "      <th>TreatmentPlant</th>\n",
       "      <th>SampleDateTime</th>\n",
       "      <th>SampleValue</th>\n",
       "      <th>NameDeterminandName</th>\n",
       "      <th>UnitsName</th>\n",
       "      <th>Latitude</th>\n",
       "      <th>Longitude</th>\n",
       "    </tr>\n",
       "  </thead>\n",
       "  <tbody>\n",
       "    <tr>\n",
       "      <th>0</th>\n",
       "      <td>Ripley STW</td>\n",
       "      <td>2016-06-07</td>\n",
       "      <td>0.000</td>\n",
       "      <td>mercury total</td>\n",
       "      <td>micrograms per litre</td>\n",
       "      <td>53.060053</td>\n",
       "      <td>-1.419227</td>\n",
       "    </tr>\n",
       "    <tr>\n",
       "      <th>1</th>\n",
       "      <td>Ripley STW</td>\n",
       "      <td>2016-06-07</td>\n",
       "      <td>44.000</td>\n",
       "      <td>iron dissolved</td>\n",
       "      <td>micrograms per litre</td>\n",
       "      <td>53.060053</td>\n",
       "      <td>-1.419227</td>\n",
       "    </tr>\n",
       "    <tr>\n",
       "      <th>2</th>\n",
       "      <td>Ripley STW</td>\n",
       "      <td>2016-06-07</td>\n",
       "      <td>74.200</td>\n",
       "      <td>iron total</td>\n",
       "      <td>micrograms per litre</td>\n",
       "      <td>53.060053</td>\n",
       "      <td>-1.419227</td>\n",
       "    </tr>\n",
       "    <tr>\n",
       "      <th>3</th>\n",
       "      <td>Ripley STW</td>\n",
       "      <td>2016-06-07</td>\n",
       "      <td>18.400</td>\n",
       "      <td>aluminium dissolved</td>\n",
       "      <td>micrograms per litre</td>\n",
       "      <td>53.060053</td>\n",
       "      <td>-1.419227</td>\n",
       "    </tr>\n",
       "    <tr>\n",
       "      <th>4</th>\n",
       "      <td>Ripley STW</td>\n",
       "      <td>2016-06-07</td>\n",
       "      <td>45.800</td>\n",
       "      <td>aluminium total</td>\n",
       "      <td>micrograms per litre</td>\n",
       "      <td>53.060053</td>\n",
       "      <td>-1.419227</td>\n",
       "    </tr>\n",
       "    <tr>\n",
       "      <th>...</th>\n",
       "      <td>...</td>\n",
       "      <td>...</td>\n",
       "      <td>...</td>\n",
       "      <td>...</td>\n",
       "      <td>...</td>\n",
       "      <td>...</td>\n",
       "      <td>...</td>\n",
       "    </tr>\n",
       "    <tr>\n",
       "      <th>639596</th>\n",
       "      <td>Melbourne STW</td>\n",
       "      <td>2018-01-26</td>\n",
       "      <td>16.500</td>\n",
       "      <td>dissolved organic carbon</td>\n",
       "      <td>milligrammes per litre</td>\n",
       "      <td>52.825435</td>\n",
       "      <td>-1.420281</td>\n",
       "    </tr>\n",
       "    <tr>\n",
       "      <th>639597</th>\n",
       "      <td>Melbourne STW</td>\n",
       "      <td>2018-01-26</td>\n",
       "      <td>68.000</td>\n",
       "      <td>calcium</td>\n",
       "      <td>milligrammes per litre</td>\n",
       "      <td>52.825435</td>\n",
       "      <td>-1.420281</td>\n",
       "    </tr>\n",
       "    <tr>\n",
       "      <th>639598</th>\n",
       "      <td>Melbourne STW</td>\n",
       "      <td>2018-01-26</td>\n",
       "      <td>0.005</td>\n",
       "      <td>sulphide</td>\n",
       "      <td>milligrammes per litre</td>\n",
       "      <td>52.825435</td>\n",
       "      <td>-1.420281</td>\n",
       "    </tr>\n",
       "    <tr>\n",
       "      <th>639599</th>\n",
       "      <td>Melbourne STW</td>\n",
       "      <td>2018-01-26</td>\n",
       "      <td>0.050</td>\n",
       "      <td>mono nonylphenol ethoxylates</td>\n",
       "      <td>micrograms per litre</td>\n",
       "      <td>52.825435</td>\n",
       "      <td>-1.420281</td>\n",
       "    </tr>\n",
       "    <tr>\n",
       "      <th>639600</th>\n",
       "      <td>Melbourne STW</td>\n",
       "      <td>2018-01-26</td>\n",
       "      <td>0.050</td>\n",
       "      <td>di nonylphenol ethoxylates</td>\n",
       "      <td>micrograms per litre</td>\n",
       "      <td>52.825435</td>\n",
       "      <td>-1.420281</td>\n",
       "    </tr>\n",
       "  </tbody>\n",
       "</table>\n",
       "<p>636096 rows × 7 columns</p>\n",
       "</div>"
      ],
      "text/plain": [
       "       TreatmentPlant SampleDateTime  SampleValue  \\\n",
       "0          Ripley STW     2016-06-07        0.000   \n",
       "1          Ripley STW     2016-06-07       44.000   \n",
       "2          Ripley STW     2016-06-07       74.200   \n",
       "3          Ripley STW     2016-06-07       18.400   \n",
       "4          Ripley STW     2016-06-07       45.800   \n",
       "...               ...            ...          ...   \n",
       "639596  Melbourne STW     2018-01-26       16.500   \n",
       "639597  Melbourne STW     2018-01-26       68.000   \n",
       "639598  Melbourne STW     2018-01-26        0.005   \n",
       "639599  Melbourne STW     2018-01-26        0.050   \n",
       "639600  Melbourne STW     2018-01-26        0.050   \n",
       "\n",
       "                 NameDeterminandName               UnitsName   Latitude  \\\n",
       "0                      mercury total    micrograms per litre  53.060053   \n",
       "1                     iron dissolved    micrograms per litre  53.060053   \n",
       "2                         iron total    micrograms per litre  53.060053   \n",
       "3                aluminium dissolved    micrograms per litre  53.060053   \n",
       "4                    aluminium total    micrograms per litre  53.060053   \n",
       "...                              ...                     ...        ...   \n",
       "639596      dissolved organic carbon  milligrammes per litre  52.825435   \n",
       "639597                       calcium  milligrammes per litre  52.825435   \n",
       "639598                      sulphide  milligrammes per litre  52.825435   \n",
       "639599  mono nonylphenol ethoxylates    micrograms per litre  52.825435   \n",
       "639600    di nonylphenol ethoxylates    micrograms per litre  52.825435   \n",
       "\n",
       "        Longitude  \n",
       "0       -1.419227  \n",
       "1       -1.419227  \n",
       "2       -1.419227  \n",
       "3       -1.419227  \n",
       "4       -1.419227  \n",
       "...           ...  \n",
       "639596  -1.420281  \n",
       "639597  -1.420281  \n",
       "639598  -1.420281  \n",
       "639599  -1.420281  \n",
       "639600  -1.420281  \n",
       "\n",
       "[636096 rows x 7 columns]"
      ]
     },
     "execution_count": 64,
     "metadata": {},
     "output_type": "execute_result"
    }
   ],
   "source": [
    "swt_data"
   ]
  },
  {
   "cell_type": "code",
   "execution_count": 65,
   "metadata": {},
   "outputs": [
    {
     "name": "stdout",
     "output_type": "stream",
     "text": [
      "2001-01-01 00:00:00\n",
      "2020-12-03 00:00:00\n"
     ]
    }
   ],
   "source": [
    "#More EDA on Data Set\n",
    "# Explore records by Year and Months\n",
    "\n",
    "print (swt_data.SampleDateTime.min())\n",
    "print (swt_data.SampleDateTime.max())"
   ]
  },
  {
   "cell_type": "code",
   "execution_count": 66,
   "metadata": {},
   "outputs": [
    {
     "name": "stderr",
     "output_type": "stream",
     "text": [
      "<ipython-input-66-64866a4fdb37>:1: SettingWithCopyWarning: \n",
      "A value is trying to be set on a copy of a slice from a DataFrame.\n",
      "Try using .loc[row_indexer,col_indexer] = value instead\n",
      "\n",
      "See the caveats in the documentation: https://pandas.pydata.org/pandas-docs/stable/user_guide/indexing.html#returning-a-view-versus-a-copy\n",
      "  swt_data['Year'] = pd.DatetimeIndex(swt_data['SampleDateTime']).year\n"
     ]
    }
   ],
   "source": [
    "swt_data['Year'] = pd.DatetimeIndex(swt_data['SampleDateTime']).year\n",
    "swt_data['Month'] = pd.DatetimeIndex(swt_data['SampleDateTime']).month"
   ]
  },
  {
   "cell_type": "code",
   "execution_count": 68,
   "metadata": {},
   "outputs": [
    {
     "name": "stdout",
     "output_type": "stream",
     "text": [
      "<class 'pandas.core.frame.DataFrame'>\n",
      "Int64Index: 636096 entries, 0 to 639600\n",
      "Data columns (total 9 columns):\n",
      " #   Column               Non-Null Count   Dtype         \n",
      "---  ------               --------------   -----         \n",
      " 0   TreatmentPlant       636096 non-null  object        \n",
      " 1   SampleDateTime       636096 non-null  datetime64[ns]\n",
      " 2   SampleValue          636096 non-null  float64       \n",
      " 3   NameDeterminandName  636096 non-null  object        \n",
      " 4   UnitsName            636096 non-null  object        \n",
      " 5   Latitude             636096 non-null  float64       \n",
      " 6   Longitude            636096 non-null  float64       \n",
      " 7   Year                 636096 non-null  int64         \n",
      " 8   Month                636096 non-null  int64         \n",
      "dtypes: datetime64[ns](1), float64(3), int64(2), object(3)\n",
      "memory usage: 48.5+ MB\n"
     ]
    }
   ],
   "source": [
    "swt_data.info()\n"
   ]
  },
  {
   "cell_type": "code",
   "execution_count": 69,
   "metadata": {},
   "outputs": [
    {
     "data": {
      "text/plain": [
       "2016    178608\n",
       "2018    147781\n",
       "2017    139423\n",
       "2019     81212\n",
       "2015     78698\n",
       "2020     10276\n",
       "2001        98\n",
       "Name: Year, dtype: int64"
      ]
     },
     "execution_count": 69,
     "metadata": {},
     "output_type": "execute_result"
    }
   ],
   "source": [
    "swt_data.Year.value_counts()  #2001 on the list why?"
   ]
  },
  {
   "cell_type": "code",
   "execution_count": 70,
   "metadata": {},
   "outputs": [
    {
     "data": {
      "text/plain": [
       "<AxesSubplot:xlabel='Year', ylabel='count'>"
      ]
     },
     "execution_count": 70,
     "metadata": {},
     "output_type": "execute_result"
    },
    {
     "data": {
      "image/png": "[encoded data removed]",
      "text/plain": [
       "<Figure size 432x288 with 1 Axes>"
      ]
     },
     "metadata": {
      "needs_background": "light"
     },
     "output_type": "display_data"
    }
   ],
   "source": [
    "sn.countplot(x = 'Year', data = swt_data)"
   ]
  },
  {
   "cell_type": "code",
   "execution_count": 71,
   "metadata": {},
   "outputs": [
    {
     "data": {
      "text/plain": [
       "11    64172\n",
       "9     59353\n",
       "7     56998\n",
       "1     55951\n",
       "10    54578\n",
       "6     54414\n",
       "8     53501\n",
       "3     52821\n",
       "5     51531\n",
       "2     49576\n",
       "4     48153\n",
       "12    35048\n",
       "Name: Month, dtype: int64"
      ]
     },
     "execution_count": 71,
     "metadata": {},
     "output_type": "execute_result"
    }
   ],
   "source": [
    "swt_data.Month.value_counts()"
   ]
  },
  {
   "cell_type": "code",
   "execution_count": 72,
   "metadata": {},
   "outputs": [],
   "source": [
    "swt_data = swt_data[(swt_data['SampleDateTime'].dt.year != 2001)]"
   ]
  },
  {
   "cell_type": "code",
   "execution_count": 73,
   "metadata": {},
   "outputs": [
    {
     "data": {
      "text/html": [
       "<div>\n",
       "<style scoped>\n",
       "    .dataframe tbody tr th:only-of-type {\n",
       "        vertical-align: middle;\n",
       "    }\n",
       "\n",
       "    .dataframe tbody tr th {\n",
       "        vertical-align: top;\n",
       "    }\n",
       "\n",
       "    .dataframe thead th {\n",
       "        text-align: right;\n",
       "    }\n",
       "</style>\n",
       "<table border=\"1\" class=\"dataframe\">\n",
       "  <thead>\n",
       "    <tr style=\"text-align: right;\">\n",
       "      <th></th>\n",
       "      <th>TreatmentPlant</th>\n",
       "      <th>SampleDateTime</th>\n",
       "      <th>SampleValue</th>\n",
       "      <th>NameDeterminandName</th>\n",
       "      <th>UnitsName</th>\n",
       "      <th>Latitude</th>\n",
       "      <th>Longitude</th>\n",
       "      <th>Year</th>\n",
       "      <th>Month</th>\n",
       "    </tr>\n",
       "  </thead>\n",
       "  <tbody>\n",
       "    <tr>\n",
       "      <th>0</th>\n",
       "      <td>Ripley STW</td>\n",
       "      <td>2016-06-07</td>\n",
       "      <td>0.000</td>\n",
       "      <td>mercury total</td>\n",
       "      <td>micrograms per litre</td>\n",
       "      <td>53.060053</td>\n",
       "      <td>-1.419227</td>\n",
       "      <td>2016</td>\n",
       "      <td>6</td>\n",
       "    </tr>\n",
       "    <tr>\n",
       "      <th>1</th>\n",
       "      <td>Ripley STW</td>\n",
       "      <td>2016-06-07</td>\n",
       "      <td>44.000</td>\n",
       "      <td>iron dissolved</td>\n",
       "      <td>micrograms per litre</td>\n",
       "      <td>53.060053</td>\n",
       "      <td>-1.419227</td>\n",
       "      <td>2016</td>\n",
       "      <td>6</td>\n",
       "    </tr>\n",
       "    <tr>\n",
       "      <th>2</th>\n",
       "      <td>Ripley STW</td>\n",
       "      <td>2016-06-07</td>\n",
       "      <td>74.200</td>\n",
       "      <td>iron total</td>\n",
       "      <td>micrograms per litre</td>\n",
       "      <td>53.060053</td>\n",
       "      <td>-1.419227</td>\n",
       "      <td>2016</td>\n",
       "      <td>6</td>\n",
       "    </tr>\n",
       "    <tr>\n",
       "      <th>3</th>\n",
       "      <td>Ripley STW</td>\n",
       "      <td>2016-06-07</td>\n",
       "      <td>18.400</td>\n",
       "      <td>aluminium dissolved</td>\n",
       "      <td>micrograms per litre</td>\n",
       "      <td>53.060053</td>\n",
       "      <td>-1.419227</td>\n",
       "      <td>2016</td>\n",
       "      <td>6</td>\n",
       "    </tr>\n",
       "    <tr>\n",
       "      <th>4</th>\n",
       "      <td>Ripley STW</td>\n",
       "      <td>2016-06-07</td>\n",
       "      <td>45.800</td>\n",
       "      <td>aluminium total</td>\n",
       "      <td>micrograms per litre</td>\n",
       "      <td>53.060053</td>\n",
       "      <td>-1.419227</td>\n",
       "      <td>2016</td>\n",
       "      <td>6</td>\n",
       "    </tr>\n",
       "    <tr>\n",
       "      <th>...</th>\n",
       "      <td>...</td>\n",
       "      <td>...</td>\n",
       "      <td>...</td>\n",
       "      <td>...</td>\n",
       "      <td>...</td>\n",
       "      <td>...</td>\n",
       "      <td>...</td>\n",
       "      <td>...</td>\n",
       "      <td>...</td>\n",
       "    </tr>\n",
       "    <tr>\n",
       "      <th>639596</th>\n",
       "      <td>Melbourne STW</td>\n",
       "      <td>2018-01-26</td>\n",
       "      <td>16.500</td>\n",
       "      <td>dissolved organic carbon</td>\n",
       "      <td>milligrammes per litre</td>\n",
       "      <td>52.825435</td>\n",
       "      <td>-1.420281</td>\n",
       "      <td>2018</td>\n",
       "      <td>1</td>\n",
       "    </tr>\n",
       "    <tr>\n",
       "      <th>639597</th>\n",
       "      <td>Melbourne STW</td>\n",
       "      <td>2018-01-26</td>\n",
       "      <td>68.000</td>\n",
       "      <td>calcium</td>\n",
       "      <td>milligrammes per litre</td>\n",
       "      <td>52.825435</td>\n",
       "      <td>-1.420281</td>\n",
       "      <td>2018</td>\n",
       "      <td>1</td>\n",
       "    </tr>\n",
       "    <tr>\n",
       "      <th>639598</th>\n",
       "      <td>Melbourne STW</td>\n",
       "      <td>2018-01-26</td>\n",
       "      <td>0.005</td>\n",
       "      <td>sulphide</td>\n",
       "      <td>milligrammes per litre</td>\n",
       "      <td>52.825435</td>\n",
       "      <td>-1.420281</td>\n",
       "      <td>2018</td>\n",
       "      <td>1</td>\n",
       "    </tr>\n",
       "    <tr>\n",
       "      <th>639599</th>\n",
       "      <td>Melbourne STW</td>\n",
       "      <td>2018-01-26</td>\n",
       "      <td>0.050</td>\n",
       "      <td>mono nonylphenol ethoxylates</td>\n",
       "      <td>micrograms per litre</td>\n",
       "      <td>52.825435</td>\n",
       "      <td>-1.420281</td>\n",
       "      <td>2018</td>\n",
       "      <td>1</td>\n",
       "    </tr>\n",
       "    <tr>\n",
       "      <th>639600</th>\n",
       "      <td>Melbourne STW</td>\n",
       "      <td>2018-01-26</td>\n",
       "      <td>0.050</td>\n",
       "      <td>di nonylphenol ethoxylates</td>\n",
       "      <td>micrograms per litre</td>\n",
       "      <td>52.825435</td>\n",
       "      <td>-1.420281</td>\n",
       "      <td>2018</td>\n",
       "      <td>1</td>\n",
       "    </tr>\n",
       "  </tbody>\n",
       "</table>\n",
       "<p>635998 rows × 9 columns</p>\n",
       "</div>"
      ],
      "text/plain": [
       "       TreatmentPlant SampleDateTime  SampleValue  \\\n",
       "0          Ripley STW     2016-06-07        0.000   \n",
       "1          Ripley STW     2016-06-07       44.000   \n",
       "2          Ripley STW     2016-06-07       74.200   \n",
       "3          Ripley STW     2016-06-07       18.400   \n",
       "4          Ripley STW     2016-06-07       45.800   \n",
       "...               ...            ...          ...   \n",
       "639596  Melbourne STW     2018-01-26       16.500   \n",
       "639597  Melbourne STW     2018-01-26       68.000   \n",
       "639598  Melbourne STW     2018-01-26        0.005   \n",
       "639599  Melbourne STW     2018-01-26        0.050   \n",
       "639600  Melbourne STW     2018-01-26        0.050   \n",
       "\n",
       "                 NameDeterminandName               UnitsName   Latitude  \\\n",
       "0                      mercury total    micrograms per litre  53.060053   \n",
       "1                     iron dissolved    micrograms per litre  53.060053   \n",
       "2                         iron total    micrograms per litre  53.060053   \n",
       "3                aluminium dissolved    micrograms per litre  53.060053   \n",
       "4                    aluminium total    micrograms per litre  53.060053   \n",
       "...                              ...                     ...        ...   \n",
       "639596      dissolved organic carbon  milligrammes per litre  52.825435   \n",
       "639597                       calcium  milligrammes per litre  52.825435   \n",
       "639598                      sulphide  milligrammes per litre  52.825435   \n",
       "639599  mono nonylphenol ethoxylates    micrograms per litre  52.825435   \n",
       "639600    di nonylphenol ethoxylates    micrograms per litre  52.825435   \n",
       "\n",
       "        Longitude  Year  Month  \n",
       "0       -1.419227  2016      6  \n",
       "1       -1.419227  2016      6  \n",
       "2       -1.419227  2016      6  \n",
       "3       -1.419227  2016      6  \n",
       "4       -1.419227  2016      6  \n",
       "...           ...   ...    ...  \n",
       "639596  -1.420281  2018      1  \n",
       "639597  -1.420281  2018      1  \n",
       "639598  -1.420281  2018      1  \n",
       "639599  -1.420281  2018      1  \n",
       "639600  -1.420281  2018      1  \n",
       "\n",
       "[635998 rows x 9 columns]"
      ]
     },
     "execution_count": 73,
     "metadata": {},
     "output_type": "execute_result"
    }
   ],
   "source": [
    "swt_data\n"
   ]
  },
  {
   "cell_type": "code",
   "execution_count": 75,
   "metadata": {},
   "outputs": [],
   "source": [
    "#Cleaned Data ready for use for the WebApp\n",
    "\n",
    "swt_data.to_csv('TreatmentEff_clean.csv')"
   ]
  },
  {
   "cell_type": "code",
   "execution_count": 76,
   "metadata": {},
   "outputs": [
    {
     "name": "stdout",
     "output_type": "stream",
     "text": [
      "<class 'pandas.core.frame.DataFrame'>\n",
      "Int64Index: 635998 entries, 0 to 639600\n",
      "Data columns (total 9 columns):\n",
      " #   Column               Non-Null Count   Dtype         \n",
      "---  ------               --------------   -----         \n",
      " 0   TreatmentPlant       635998 non-null  object        \n",
      " 1   SampleDateTime       635998 non-null  datetime64[ns]\n",
      " 2   SampleValue          635998 non-null  float64       \n",
      " 3   NameDeterminandName  635998 non-null  object        \n",
      " 4   UnitsName            635998 non-null  object        \n",
      " 5   Latitude             635998 non-null  float64       \n",
      " 6   Longitude            635998 non-null  float64       \n",
      " 7   Year                 635998 non-null  int64         \n",
      " 8   Month                635998 non-null  int64         \n",
      "dtypes: datetime64[ns](1), float64(3), int64(2), object(3)\n",
      "memory usage: 48.5+ MB\n"
     ]
    }
   ],
   "source": [
    "swt_data.info()"
   ]
  },
  {
   "cell_type": "code",
   "execution_count": null,
   "metadata": {},
   "outputs": [],
   "source": []
  }
 ],
 "metadata": {
  "kernelspec": {
   "display_name": "Python 3",
   "language": "python",
   "name": "python3"
  },
  "language_info": {
   "codemirror_mode": {
    "name": "ipython",
    "version": 3
   },
   "file_extension": ".py",
   "mimetype": "text/x-python",
   "name": "python",
   "nbconvert_exporter": "python",
   "pygments_lexer": "ipython3",
   "version": "3.8.5"
  }
 },
 "nbformat": 4,
 "nbformat_minor": 4
}
