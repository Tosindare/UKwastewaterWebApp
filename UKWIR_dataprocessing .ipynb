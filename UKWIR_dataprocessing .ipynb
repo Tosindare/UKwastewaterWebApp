{
 "cells": [
  {
   "cell_type": "markdown",
   "metadata": {},
   "source": [
    "## **UKWIR DATASET Visualization**\n",
    "\n",
    "This is a notebook to showcase the recently released UKWIR dataset on water quality from effluents of sewage treatment plants and surface water. An interactive Web application is beign created from the dataset.\n",
    "\n",
    "\n",
    "**Source:** [UKWIR- Chemical Investigation Programme](https://ukwir.org/chemical-investigations-programme-EIR-Database)\n",
    "\n",
    "### Data processing"
   ]
  },
  {
   "cell_type": "code",
   "execution_count": 1,
   "metadata": {},
   "outputs": [
    {
     "name": "stdout",
     "output_type": "stream",
     "text": [
      "Requirement already satisfied: pandas in /home/tosin/.local/lib/python3.8/site-packages (1.2.1)\n",
      "Requirement already satisfied: numpy>=1.16.5 in /home/tosin/.local/lib/python3.8/site-packages (from pandas) (1.19.5)\n",
      "Requirement already satisfied: pytz>=2017.3 in /usr/lib/python3/dist-packages (from pandas) (2019.3)\n",
      "Requirement already satisfied: python-dateutil>=2.7.3 in /usr/lib/python3/dist-packages (from pandas) (2.7.3)\n",
      "Note: you may need to restart the kernel to use updated packages.\n"
     ]
    }
   ],
   "source": [
    "#pip install pandas"
   ]
  },
  {
   "cell_type": "code",
   "execution_count": 2,
   "metadata": {},
   "outputs": [
    {
     "name": "stdout",
     "output_type": "stream",
     "text": [
      "Requirement already satisfied: seaborn in /home/tosin/.local/lib/python3.8/site-packages (0.11.1)\n",
      "Requirement already satisfied: matplotlib>=2.2 in /home/tosin/.local/lib/python3.8/site-packages (from seaborn) (3.3.3)\n",
      "Requirement already satisfied: pandas>=0.23 in /home/tosin/.local/lib/python3.8/site-packages (from seaborn) (1.2.1)\n",
      "Requirement already satisfied: scipy>=1.0 in /home/tosin/.local/lib/python3.8/site-packages (from seaborn) (1.6.0)\n",
      "Requirement already satisfied: numpy>=1.15 in /home/tosin/.local/lib/python3.8/site-packages (from seaborn) (1.19.5)\n",
      "Requirement already satisfied: pyparsing!=2.0.4,!=2.1.2,!=2.1.6,>=2.0.3 in /home/tosin/.local/lib/python3.8/site-packages (from matplotlib>=2.2->seaborn) (2.4.7)\n",
      "Requirement already satisfied: python-dateutil>=2.1 in /usr/lib/python3/dist-packages (from matplotlib>=2.2->seaborn) (2.7.3)\n",
      "Requirement already satisfied: pillow>=6.2.0 in /usr/lib/python3/dist-packages (from matplotlib>=2.2->seaborn) (7.0.0)\n",
      "Requirement already satisfied: kiwisolver>=1.0.1 in /home/tosin/.local/lib/python3.8/site-packages (from matplotlib>=2.2->seaborn) (1.3.1)\n",
      "Requirement already satisfied: cycler>=0.10 in /home/tosin/.local/lib/python3.8/site-packages (from matplotlib>=2.2->seaborn) (0.10.0)\n",
      "Requirement already satisfied: pytz>=2017.3 in /usr/lib/python3/dist-packages (from pandas>=0.23->seaborn) (2019.3)\n",
      "Requirement already satisfied: six in /usr/lib/python3/dist-packages (from cycler>=0.10->matplotlib>=2.2->seaborn) (1.14.0)\n",
      "Note: you may need to restart the kernel to use updated packages.\n"
     ]
    }
   ],
   "source": [
    "#pip install seaborn"
   ]
  },
  {
   "cell_type": "code",
   "execution_count": 3,
   "metadata": {},
   "outputs": [],
   "source": [
    "import pandas as pd\n",
    "import numpy as np\n",
    "\n",
    "import seaborn as sn\n",
    "import matplotlib.pyplot as plt"
   ]
  },
  {
   "cell_type": "code",
   "execution_count": 67,
   "metadata": {},
   "outputs": [],
   "source": [
    "#Import cleaned effluent Dataset\n",
    "#Rows with null values were removed and the data with dates before 2015 were also removed - dates are suppoed to be from 2015 - 2020 according to the documentation.\n",
    "\n",
    "eff_data = pd.read_csv('/home/tosin/Documents/DataScienceProjects/Dataset_/TreatmentEff_clean.csv')"
   ]
  },
  {
   "cell_type": "code",
   "execution_count": 68,
   "metadata": {},
   "outputs": [],
   "source": [
    "eff_data.SampleDateTime = pd.to_datetime(eff_data.SampleDateTime) # format='%Y/%m/%d')"
   ]
  },
  {
   "cell_type": "code",
   "execution_count": 25,
   "metadata": {},
   "outputs": [
    {
     "name": "stdout",
     "output_type": "stream",
     "text": [
      "<class 'pandas.core.frame.DataFrame'>\n",
      "RangeIndex: 635998 entries, 0 to 635997\n",
      "Data columns (total 10 columns):\n",
      " #   Column               Non-Null Count   Dtype         \n",
      "---  ------               --------------   -----         \n",
      " 0   Unnamed: 0           635998 non-null  int64         \n",
      " 1   TreatmentPlant       635998 non-null  object        \n",
      " 2   SampleDateTime       635998 non-null  datetime64[ns]\n",
      " 3   SampleValue          635998 non-null  float64       \n",
      " 4   NameDeterminandName  635998 non-null  object        \n",
      " 5   UnitsName            635998 non-null  object        \n",
      " 6   Latitude             635998 non-null  float64       \n",
      " 7   Longitude            635998 non-null  float64       \n",
      " 8   Year                 635998 non-null  int64         \n",
      " 9   Month                635998 non-null  int64         \n",
      "dtypes: datetime64[ns](1), float64(3), int64(3), object(3)\n",
      "memory usage: 48.5+ MB\n"
     ]
    }
   ],
   "source": [
    "eff_data.info()"
   ]
  },
  {
   "cell_type": "code",
   "execution_count": 69,
   "metadata": {},
   "outputs": [],
   "source": [
    "# Import Influent and Treatment plant location Dataset\n",
    "\n",
    "influent = pd.read_csv('/home/tosin/Documents/DataScienceProjects/Dataset_/influent.csv')\n",
    "\n"
   ]
  },
  {
   "cell_type": "code",
   "execution_count": 77,
   "metadata": {},
   "outputs": [
    {
     "data": {
      "text/html": [
       "<div>\n",
       "<style scoped>\n",
       "    .dataframe tbody tr th:only-of-type {\n",
       "        vertical-align: middle;\n",
       "    }\n",
       "\n",
       "    .dataframe tbody tr th {\n",
       "        vertical-align: top;\n",
       "    }\n",
       "\n",
       "    .dataframe thead th {\n",
       "        text-align: right;\n",
       "    }\n",
       "</style>\n",
       "<table border=\"1\" class=\"dataframe\">\n",
       "  <thead>\n",
       "    <tr style=\"text-align: right;\">\n",
       "      <th></th>\n",
       "      <th>TreatmentPlant</th>\n",
       "      <th>SampleDateTime</th>\n",
       "      <th>SampleLocationName</th>\n",
       "      <th>SampleValue</th>\n",
       "      <th>NameDeterminandName</th>\n",
       "      <th>UnitsName</th>\n",
       "      <th>BelowMinReading</th>\n",
       "      <th>Latitude</th>\n",
       "      <th>Longitude</th>\n",
       "    </tr>\n",
       "  </thead>\n",
       "  <tbody>\n",
       "    <tr>\n",
       "      <th>0</th>\n",
       "      <td>Garforth STW</td>\n",
       "      <td>31/03/2015 00:00:00</td>\n",
       "      <td>Treatment Influent</td>\n",
       "      <td>226.000000</td>\n",
       "      <td>total suspended solids</td>\n",
       "      <td>milligrammes per litre</td>\n",
       "      <td>No</td>\n",
       "      <td>53.753874</td>\n",
       "      <td>-1.368285</td>\n",
       "    </tr>\n",
       "    <tr>\n",
       "      <th>1</th>\n",
       "      <td>Garforth STW</td>\n",
       "      <td>31/03/2015 00:00:00</td>\n",
       "      <td>Treatment Influent</td>\n",
       "      <td>18.300000</td>\n",
       "      <td>ammoniacal nitrogen as N</td>\n",
       "      <td>milligrammes per litre</td>\n",
       "      <td>No</td>\n",
       "      <td>53.753874</td>\n",
       "      <td>-1.368285</td>\n",
       "    </tr>\n",
       "    <tr>\n",
       "      <th>2</th>\n",
       "      <td>Garforth STW</td>\n",
       "      <td>31/03/2015 00:00:00</td>\n",
       "      <td>Treatment Influent</td>\n",
       "      <td>3.610000</td>\n",
       "      <td>total oxidised nitrogen as N</td>\n",
       "      <td>milligrammes per litre</td>\n",
       "      <td>No</td>\n",
       "      <td>53.753874</td>\n",
       "      <td>-1.368285</td>\n",
       "    </tr>\n",
       "    <tr>\n",
       "      <th>3</th>\n",
       "      <td>Garforth STW</td>\n",
       "      <td>31/03/2015 00:00:00</td>\n",
       "      <td>Treatment Influent</td>\n",
       "      <td>251.000000</td>\n",
       "      <td>Biochemical Oxygen Demand</td>\n",
       "      <td>milligrammes per litre</td>\n",
       "      <td>No</td>\n",
       "      <td>53.753874</td>\n",
       "      <td>-1.368285</td>\n",
       "    </tr>\n",
       "    <tr>\n",
       "      <th>4</th>\n",
       "      <td>Garforth STW</td>\n",
       "      <td>31/03/2015 00:00:00</td>\n",
       "      <td>Treatment Influent</td>\n",
       "      <td>609.000000</td>\n",
       "      <td>Chemical Oxygen Demand</td>\n",
       "      <td>milligrammes per litre</td>\n",
       "      <td>No</td>\n",
       "      <td>53.753874</td>\n",
       "      <td>-1.368285</td>\n",
       "    </tr>\n",
       "    <tr>\n",
       "      <th>...</th>\n",
       "      <td>...</td>\n",
       "      <td>...</td>\n",
       "      <td>...</td>\n",
       "      <td>...</td>\n",
       "      <td>...</td>\n",
       "      <td>...</td>\n",
       "      <td>...</td>\n",
       "      <td>...</td>\n",
       "      <td>...</td>\n",
       "    </tr>\n",
       "    <tr>\n",
       "      <th>37714</th>\n",
       "      <td>Afan STW</td>\n",
       "      <td>20/04/2016 00:00:00</td>\n",
       "      <td>Treatment Influent</td>\n",
       "      <td>0.000100</td>\n",
       "      <td>oestradiol 17b</td>\n",
       "      <td>micrograms per litre</td>\n",
       "      <td>No</td>\n",
       "      <td>NaN</td>\n",
       "      <td>NaN</td>\n",
       "    </tr>\n",
       "    <tr>\n",
       "      <th>37715</th>\n",
       "      <td>Afan STW</td>\n",
       "      <td>04/08/2016 00:00:00</td>\n",
       "      <td>Treatment Influent</td>\n",
       "      <td>0.000100</td>\n",
       "      <td>ethinyloestradiol 17a</td>\n",
       "      <td>micrograms per litre</td>\n",
       "      <td>No</td>\n",
       "      <td>NaN</td>\n",
       "      <td>NaN</td>\n",
       "    </tr>\n",
       "    <tr>\n",
       "      <th>37716</th>\n",
       "      <td>Afan STW</td>\n",
       "      <td>13/04/2016 00:00:00</td>\n",
       "      <td>Treatment Influent</td>\n",
       "      <td>0.000080</td>\n",
       "      <td>ethinyloestradiol 17a</td>\n",
       "      <td>micrograms per litre</td>\n",
       "      <td>No</td>\n",
       "      <td>NaN</td>\n",
       "      <td>NaN</td>\n",
       "    </tr>\n",
       "    <tr>\n",
       "      <th>37717</th>\n",
       "      <td>Afan STW</td>\n",
       "      <td>16/09/2015 00:00:00</td>\n",
       "      <td>Treatment Influent</td>\n",
       "      <td>0.000063</td>\n",
       "      <td>ethinyloestradiol 17a</td>\n",
       "      <td>micrograms per litre</td>\n",
       "      <td>No</td>\n",
       "      <td>NaN</td>\n",
       "      <td>NaN</td>\n",
       "    </tr>\n",
       "    <tr>\n",
       "      <th>37718</th>\n",
       "      <td>Afan STW</td>\n",
       "      <td>17/12/2015 00:00:00</td>\n",
       "      <td>Treatment Influent</td>\n",
       "      <td>0.000040</td>\n",
       "      <td>ethinyloestradiol 17a</td>\n",
       "      <td>micrograms per litre</td>\n",
       "      <td>No</td>\n",
       "      <td>NaN</td>\n",
       "      <td>NaN</td>\n",
       "    </tr>\n",
       "  </tbody>\n",
       "</table>\n",
       "<p>37719 rows × 9 columns</p>\n",
       "</div>"
      ],
      "text/plain": [
       "      TreatmentPlant       SampleDateTime  SampleLocationName  SampleValue  \\\n",
       "0       Garforth STW  31/03/2015 00:00:00  Treatment Influent   226.000000   \n",
       "1       Garforth STW  31/03/2015 00:00:00  Treatment Influent    18.300000   \n",
       "2       Garforth STW  31/03/2015 00:00:00  Treatment Influent     3.610000   \n",
       "3       Garforth STW  31/03/2015 00:00:00  Treatment Influent   251.000000   \n",
       "4       Garforth STW  31/03/2015 00:00:00  Treatment Influent   609.000000   \n",
       "...              ...                  ...                 ...          ...   \n",
       "37714       Afan STW  20/04/2016 00:00:00  Treatment Influent     0.000100   \n",
       "37715       Afan STW  04/08/2016 00:00:00  Treatment Influent     0.000100   \n",
       "37716       Afan STW  13/04/2016 00:00:00  Treatment Influent     0.000080   \n",
       "37717       Afan STW  16/09/2015 00:00:00  Treatment Influent     0.000063   \n",
       "37718       Afan STW  17/12/2015 00:00:00  Treatment Influent     0.000040   \n",
       "\n",
       "                NameDeterminandName               UnitsName BelowMinReading  \\\n",
       "0            total suspended solids  milligrammes per litre              No   \n",
       "1          ammoniacal nitrogen as N  milligrammes per litre              No   \n",
       "2      total oxidised nitrogen as N  milligrammes per litre              No   \n",
       "3         Biochemical Oxygen Demand  milligrammes per litre              No   \n",
       "4            Chemical Oxygen Demand  milligrammes per litre              No   \n",
       "...                             ...                     ...             ...   \n",
       "37714                oestradiol 17b    micrograms per litre              No   \n",
       "37715         ethinyloestradiol 17a    micrograms per litre              No   \n",
       "37716         ethinyloestradiol 17a    micrograms per litre              No   \n",
       "37717         ethinyloestradiol 17a    micrograms per litre              No   \n",
       "37718         ethinyloestradiol 17a    micrograms per litre              No   \n",
       "\n",
       "        Latitude  Longitude  \n",
       "0      53.753874  -1.368285  \n",
       "1      53.753874  -1.368285  \n",
       "2      53.753874  -1.368285  \n",
       "3      53.753874  -1.368285  \n",
       "4      53.753874  -1.368285  \n",
       "...          ...        ...  \n",
       "37714        NaN        NaN  \n",
       "37715        NaN        NaN  \n",
       "37716        NaN        NaN  \n",
       "37717        NaN        NaN  \n",
       "37718        NaN        NaN  \n",
       "\n",
       "[37719 rows x 9 columns]"
      ]
     },
     "execution_count": 77,
     "metadata": {},
     "output_type": "execute_result"
    }
   ],
   "source": [
    "influent"
   ]
  },
  {
   "cell_type": "code",
   "execution_count": 71,
   "metadata": {},
   "outputs": [],
   "source": [
    "eff_data = eff_data.drop(['Unnamed: 0'], axis = 1)"
   ]
  },
  {
   "cell_type": "code",
   "execution_count": 72,
   "metadata": {},
   "outputs": [
    {
     "data": {
      "text/plain": [
       "<AxesSubplot:xlabel='Longitude', ylabel='Latitude'>"
      ]
     },
     "execution_count": 72,
     "metadata": {},
     "output_type": "execute_result"
    },
    {
     "data": {
      "image/png": "[encoded data removed]",
      "text/plain": [
       "<Figure size 720x1152 with 1 Axes>"
      ]
     },
     "metadata": {
      "needs_background": "light"
     },
     "output_type": "display_data"
    }
   ],
   "source": [
    "#Plot locations of Treatment Plants for effleunt data\n",
    "\n",
    "fig_dims = (10,16)\n",
    "\n",
    "fig, ax = plt.subplots(figsize = fig_dims)\n",
    "sn.scatterplot(data = eff_data, x ='Longitude', y = 'Latitude', ax = ax)"
   ]
  },
  {
   "cell_type": "code",
   "execution_count": 39,
   "metadata": {},
   "outputs": [
    {
     "name": "stderr",
     "output_type": "stream",
     "text": [
      "<ipython-input-39-53639eac30c5>:2: FutureWarning: Treating datetime data as categorical rather than numeric in `.describe` is deprecated and will be removed in a future version of pandas. Specify `datetime_is_numeric=True` to silence this warning and adopt the future behavior now.\n",
      "  eff_data.describe(include='all').loc['unique', :]\n"
     ]
    },
    {
     "data": {
      "text/plain": [
       "TreatmentPlant          595\n",
       "SampleDateTime         1305\n",
       "SampleValue             NaN\n",
       "NameDeterminandName      77\n",
       "UnitsName                 3\n",
       "Latitude                NaN\n",
       "Longitude               NaN\n",
       "Year                    NaN\n",
       "Month                   NaN\n",
       "Name: unique, dtype: object"
      ]
     },
     "execution_count": 39,
     "metadata": {},
     "output_type": "execute_result"
    }
   ],
   "source": [
    "#Explore data by columns\n",
    "eff_data.describe(include='all').loc['unique', :]"
   ]
  },
  {
   "cell_type": "code",
   "execution_count": 73,
   "metadata": {},
   "outputs": [
    {
     "name": "stdout",
     "output_type": "stream",
     "text": [
      "2015-01-04 00:00:00\n",
      "2020-12-03 00:00:00\n"
     ]
    }
   ],
   "source": [
    "# Explore first & last date of records \n",
    "\n",
    "print (eff_data.SampleDateTime.min())\n",
    "print (eff_data.SampleDateTime.max())"
   ]
  },
  {
   "cell_type": "code",
   "execution_count": 74,
   "metadata": {},
   "outputs": [
    {
     "data": {
      "text/plain": [
       "<AxesSubplot:xlabel='Year', ylabel='count'>"
      ]
     },
     "execution_count": 74,
     "metadata": {},
     "output_type": "execute_result"
    },
    {
     "data": {
      "image/png": "[encoded data removed]",
      "text/plain": [
       "<Figure size 432x288 with 1 Axes>"
      ]
     },
     "metadata": {
      "needs_background": "light"
     },
     "output_type": "display_data"
    }
   ],
   "source": [
    "sn.countplot(x = 'Year', data = eff_data)"
   ]
  },
  {
   "cell_type": "code",
   "execution_count": 75,
   "metadata": {},
   "outputs": [
    {
     "data": {
      "text/plain": [
       "11    64172\n",
       "9     59353\n",
       "7     56998\n",
       "1     55853\n",
       "10    54578\n",
       "6     54414\n",
       "8     53501\n",
       "3     52821\n",
       "5     51531\n",
       "2     49576\n",
       "4     48153\n",
       "12    35048\n",
       "Name: Month, dtype: int64"
      ]
     },
     "execution_count": 75,
     "metadata": {},
     "output_type": "execute_result"
    }
   ],
   "source": [
    "eff_data.Month.value_counts()"
   ]
  },
  {
   "cell_type": "code",
   "execution_count": 76,
   "metadata": {},
   "outputs": [
    {
     "name": "stdout",
     "output_type": "stream",
     "text": [
      "<class 'pandas.core.frame.DataFrame'>\n",
      "RangeIndex: 635998 entries, 0 to 635997\n",
      "Data columns (total 9 columns):\n",
      " #   Column               Non-Null Count   Dtype         \n",
      "---  ------               --------------   -----         \n",
      " 0   TreatmentPlant       635998 non-null  object        \n",
      " 1   SampleDateTime       635998 non-null  datetime64[ns]\n",
      " 2   SampleValue          635998 non-null  float64       \n",
      " 3   NameDeterminandName  635998 non-null  object        \n",
      " 4   UnitsName            635998 non-null  object        \n",
      " 5   Latitude             635998 non-null  float64       \n",
      " 6   Longitude            635998 non-null  float64       \n",
      " 7   Year                 635998 non-null  int64         \n",
      " 8   Month                635998 non-null  int64         \n",
      "dtypes: datetime64[ns](1), float64(3), int64(2), object(3)\n",
      "memory usage: 43.7+ MB\n"
     ]
    }
   ],
   "source": [
    "eff_data.info()"
   ]
  },
  {
   "cell_type": "code",
   "execution_count": 78,
   "metadata": {},
   "outputs": [
    {
     "data": {
      "text/plain": [
       "<AxesSubplot:xlabel='Longitude', ylabel='Latitude'>"
      ]
     },
     "execution_count": 78,
     "metadata": {},
     "output_type": "execute_result"
    },
    {
     "data": {
      "image/png": "[encoded data removed]",
      "text/plain": [
       "<Figure size 720x1152 with 1 Axes>"
      ]
     },
     "metadata": {
      "needs_background": "light"
     },
     "output_type": "display_data"
    }
   ],
   "source": [
    "# plot inluent data on the Long and Latt\n",
    "\n",
    "fig_dims = (10,16)\n",
    "\n",
    "fig, ax = plt.subplots(figsize = fig_dims)\n",
    "sn.scatterplot(data = influent, x ='Longitude', y = 'Latitude', ax = ax)"
   ]
  },
  {
   "cell_type": "code",
   "execution_count": null,
   "metadata": {},
   "outputs": [],
   "source": []
  }
 ],
 "metadata": {
  "kernelspec": {
   "display_name": "Python 3",
   "language": "python",
   "name": "python3"
  },
  "language_info": {
   "codemirror_mode": {
    "name": "ipython",
    "version": 3
   },
   "file_extension": ".py",
   "mimetype": "text/x-python",
   "name": "python",
   "nbconvert_exporter": "python",
   "pygments_lexer": "ipython3",
   "version": "3.8.5"
  }
 },
 "nbformat": 4,
 "nbformat_minor": 4
}
